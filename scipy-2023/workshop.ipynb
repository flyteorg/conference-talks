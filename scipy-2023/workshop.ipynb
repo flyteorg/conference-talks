{
 "cells": [
  {
   "attachments": {},
   "cell_type": "markdown",
   "metadata": {},
   "source": [
    "# Scipy 2023: Production-grade Machine Learning with Flyte\n",
    "\n",
    "This workshop will focus on five facets of production-grade data science:\n",
    "\n",
    "- ⛰️ Scalability\n",
    "- ✅ Data Quality\n",
    "- 🔄 Reproducibility\n",
    "- 🔂 Recoverability\n",
    "- 🔎 Auditability\n",
    "\n",
    "### Learning Objectives\n",
    "\n",
    "- Learn the basics constructs of Flyte: tasks, workflows, and launchplans\n",
    "- Understand how Flyte orchestrates execution graphs, data, and compute infrastructure\n",
    "- Work with the building blocks for productionizing data science workloads\n",
    "- Learn how to test Flyte code, use CI/CD, and extend Flyte"
   ]
  },
  {
   "attachments": {},
   "cell_type": "markdown",
   "metadata": {},
   "source": [
    "## Introduction to Flyte"
   ]
  },
  {
   "attachments": {},
   "cell_type": "markdown",
   "metadata": {},
   "source": [
    "### Environment Setup\n",
    "\n",
    "Follow the instructions in the setup instructions of\n",
    "the [README](./README.md)."
   ]
  },
  {
   "attachments": {},
   "cell_type": "markdown",
   "metadata": {},
   "source": [
    "### Flyte Basics"
   ]
  },
  {
   "cell_type": "markdown",
   "metadata": {},
   "source": [
    "`flytekit` is the Python SDK for Flyte. It's the way data scientists, ML engineers, data engineers, and data analysts write code that will eventually run on a Flyte cluster.\n",
    "\n",
    "Let's take a look at the [workflows/example_00_intro.py](./workflows/example_00_intro.py) script.\n",
    "\n",
    "In it, you'll see a simple pipeline that uses the penguins dataset to train a\n",
    "penguin species classifier. This script introduces three core concepts in Flyte:\n",
    "\n",
    "- `tasks`: the basic unit of compute in Flyte.\n",
    "- `workflows`: an execution graph of tasks.\n",
    "- `launchplans`: a mechanism for executing and reusing workflows.\n",
    "\n",
    "You can run this workflow locally with:\n",
    "\n",
    "```\n",
    "python workflows/example_00_intro.py\n",
    "```"
   ]
  },
  {
   "cell_type": "markdown",
   "metadata": {},
   "source": [
    "### `pyflyte run`"
   ]
  },
  {
   "cell_type": "markdown",
   "metadata": {},
   "source": [
    "Run this locally on your terminal with pyflyte run:\n",
    "\n",
    "```bash\n",
    "pyflyte run \\\n",
    "    workflows/example_00_intro.py training_workflow \\\n",
    "    --hyperparameters '{\"C\": 0.01}'\n",
    "```"
   ]
  },
  {
   "cell_type": "markdown",
   "metadata": {},
   "source": [
    "This is great for the local debugging experience, but what if we want to run this\n",
    "workflow on an actual Flyte cluster?\n",
    "\n",
    "`pyflyte run` also supports this use case through the `--remote` flag.\n",
    "\n",
    "```bash\n",
    "pyflyte --config ~/.flyte/config-sandbox.yaml \\\n",
    "    run --remote \\\n",
    "    --image ghcr.io/flyteorg/flyte-conference-talks:scipy-2023-latest \\\n",
    "    workflows/example_00_intro.py training_workflow \\\n",
    "    --hyperparameters '{\"C\": 0.01}'\n",
    "```\n",
    "\n",
    "Notice how we're providing two extra flags:\n",
    "- `--config`: this is the path to the Flyte config file, which points `pyflyte run`\n",
    "  to the Flyte cluster endpoint.\n",
    "- `--remote`: this flag tells `pyflyte run` that we want to run the workflow on\n",
    "  a flyte cluster.\n",
    "\n",
    "Once you execute this command, you should see a message that looks like this:\n",
    "\n",
    "```\n",
    "Go to http://localhost:30080/console/projects/flytesnacks/domains/development/executions/ff733ed1039b64067a89 to see execution in the console.\n",
    "```\n",
    "\n",
    "Where `ff733ed1039b64067a89`, in this case, is the execution id of the workflow\n",
    "execution."
   ]
  },
  {
   "cell_type": "markdown",
   "metadata": {},
   "source": [
    "### Flyte Console"
   ]
  },
  {
   "cell_type": "markdown",
   "metadata": {},
   "source": [
    "\n",
    "The `flyteconsole` is the UI component of the Flyte stack. It provides a way to visualize workflows, launch them from the browser, and obtain useful metadata about Flyte entities and their corresponding executions.\n",
    "\n",
    "![Flyte Console](https://raw.githubusercontent.com/flyteorg/static-resources/main/flytesnacks/getting_started/getting_started_console.gif)\n",
    "\n",
    "Go to the link provided by the `pyflyte run` command to see the execution in the in the console."
   ]
  },
  {
   "cell_type": "markdown",
   "metadata": {},
   "source": [
    "### `FlyteRemote`"
   ]
  },
  {
   "cell_type": "code",
   "execution_count": 1,
   "metadata": {},
   "outputs": [
    {
     "data": {
      "text/plain": [
       "'http://localhost:30080/console/projects/flytesnacks/domains/development/executions/fda494308661e40fba53'"
      ]
     },
     "execution_count": 1,
     "metadata": {},
     "output_type": "execute_result"
    }
   ],
   "source": [
    "from workflows import example_00_intro\n",
    "from workflows.utils import get_remote\n",
    "\n",
    "remote = get_remote()\n",
    "execution = remote.execute_local_workflow(\n",
    "    example_00_intro.training_workflow,\n",
    "    inputs={\n",
    "        \"hyperparameters\": example_00_intro.Hyperparameters(C=0.1, max_iter=5000),\n",
    "        \"test_size\": 0.2,\n",
    "        \"random_state\": 11,\n",
    "    }\n",
    ")\n",
    "remote.generate_console_url(execution)"
   ]
  },
  {
   "cell_type": "code",
   "execution_count": 2,
   "metadata": {},
   "outputs": [],
   "source": [
    "execution = remote.wait(execution)"
   ]
  },
  {
   "cell_type": "code",
   "execution_count": 3,
   "metadata": {},
   "outputs": [
    {
     "data": {
      "text/html": [
       "<style>#sk-container-id-1 {color: black;}#sk-container-id-1 pre{padding: 0;}#sk-container-id-1 div.sk-toggleable {background-color: white;}#sk-container-id-1 label.sk-toggleable__label {cursor: pointer;display: block;width: 100%;margin-bottom: 0;padding: 0.3em;box-sizing: border-box;text-align: center;}#sk-container-id-1 label.sk-toggleable__label-arrow:before {content: \"▸\";float: left;margin-right: 0.25em;color: #696969;}#sk-container-id-1 label.sk-toggleable__label-arrow:hover:before {color: black;}#sk-container-id-1 div.sk-estimator:hover label.sk-toggleable__label-arrow:before {color: black;}#sk-container-id-1 div.sk-toggleable__content {max-height: 0;max-width: 0;overflow: hidden;text-align: left;background-color: #f0f8ff;}#sk-container-id-1 div.sk-toggleable__content pre {margin: 0.2em;color: black;border-radius: 0.25em;background-color: #f0f8ff;}#sk-container-id-1 input.sk-toggleable__control:checked~div.sk-toggleable__content {max-height: 200px;max-width: 100%;overflow: auto;}#sk-container-id-1 input.sk-toggleable__control:checked~label.sk-toggleable__label-arrow:before {content: \"▾\";}#sk-container-id-1 div.sk-estimator input.sk-toggleable__control:checked~label.sk-toggleable__label {background-color: #d4ebff;}#sk-container-id-1 div.sk-label input.sk-toggleable__control:checked~label.sk-toggleable__label {background-color: #d4ebff;}#sk-container-id-1 input.sk-hidden--visually {border: 0;clip: rect(1px 1px 1px 1px);clip: rect(1px, 1px, 1px, 1px);height: 1px;margin: -1px;overflow: hidden;padding: 0;position: absolute;width: 1px;}#sk-container-id-1 div.sk-estimator {font-family: monospace;background-color: #f0f8ff;border: 1px dotted black;border-radius: 0.25em;box-sizing: border-box;margin-bottom: 0.5em;}#sk-container-id-1 div.sk-estimator:hover {background-color: #d4ebff;}#sk-container-id-1 div.sk-parallel-item::after {content: \"\";width: 100%;border-bottom: 1px solid gray;flex-grow: 1;}#sk-container-id-1 div.sk-label:hover label.sk-toggleable__label {background-color: #d4ebff;}#sk-container-id-1 div.sk-serial::before {content: \"\";position: absolute;border-left: 1px solid gray;box-sizing: border-box;top: 0;bottom: 0;left: 50%;z-index: 0;}#sk-container-id-1 div.sk-serial {display: flex;flex-direction: column;align-items: center;background-color: white;padding-right: 0.2em;padding-left: 0.2em;position: relative;}#sk-container-id-1 div.sk-item {position: relative;z-index: 1;}#sk-container-id-1 div.sk-parallel {display: flex;align-items: stretch;justify-content: center;background-color: white;position: relative;}#sk-container-id-1 div.sk-item::before, #sk-container-id-1 div.sk-parallel-item::before {content: \"\";position: absolute;border-left: 1px solid gray;box-sizing: border-box;top: 0;bottom: 0;left: 50%;z-index: -1;}#sk-container-id-1 div.sk-parallel-item {display: flex;flex-direction: column;z-index: 1;position: relative;background-color: white;}#sk-container-id-1 div.sk-parallel-item:first-child::after {align-self: flex-end;width: 50%;}#sk-container-id-1 div.sk-parallel-item:last-child::after {align-self: flex-start;width: 50%;}#sk-container-id-1 div.sk-parallel-item:only-child::after {width: 0;}#sk-container-id-1 div.sk-dashed-wrapped {border: 1px dashed gray;margin: 0 0.4em 0.5em 0.4em;box-sizing: border-box;padding-bottom: 0.4em;background-color: white;}#sk-container-id-1 div.sk-label label {font-family: monospace;font-weight: bold;display: inline-block;line-height: 1.2em;}#sk-container-id-1 div.sk-label-container {text-align: center;}#sk-container-id-1 div.sk-container {/* jupyter's `normalize.less` sets `[hidden] { display: none; }` but bootstrap.min.css set `[hidden] { display: none !important; }` so we also need the `!important` here to be able to override the default hidden behavior on the sphinx rendered scikit-learn.org. See: https://github.com/scikit-learn/scikit-learn/issues/21755 */display: inline-block !important;position: relative;}#sk-container-id-1 div.sk-text-repr-fallback {display: none;}</style><div id=\"sk-container-id-1\" class=\"sk-top-container\"><div class=\"sk-text-repr-fallback\"><pre>LogisticRegression(C=0.1, max_iter=5000)</pre><b>In a Jupyter environment, please rerun this cell to show the HTML representation or trust the notebook. <br />On GitHub, the HTML representation is unable to render, please try loading this page with nbviewer.org.</b></div><div class=\"sk-container\" hidden><div class=\"sk-item\"><div class=\"sk-estimator sk-toggleable\"><input class=\"sk-toggleable__control sk-hidden--visually\" id=\"sk-estimator-id-1\" type=\"checkbox\" checked><label for=\"sk-estimator-id-1\" class=\"sk-toggleable__label sk-toggleable__label-arrow\">LogisticRegression</label><div class=\"sk-toggleable__content\"><pre>LogisticRegression(C=0.1, max_iter=5000)</pre></div></div></div></div></div>"
      ],
      "text/plain": [
       "LogisticRegression(C=0.1, max_iter=5000)"
      ]
     },
     "execution_count": 3,
     "metadata": {},
     "output_type": "execute_result"
    }
   ],
   "source": [
    "from sklearn.linear_model import LogisticRegression\n",
    "\n",
    "clf = execution.outputs.get(\"o0\", LogisticRegression)\n",
    "clf"
   ]
  },
  {
   "cell_type": "markdown",
   "metadata": {},
   "source": [
    "### Scheduling Launchplans\n",
    "\n",
    "You can activate schedules from the CLI or in a Python runtime:"
   ]
  },
  {
   "cell_type": "markdown",
   "metadata": {},
   "source": [
    "Using the `flytectl` CLI:\n",
    "\n",
    "```bash\n",
    "flytectl update launchplan \\\n",
    "    -p flytesnacks -d development \\\n",
    "    scheduled_training_workflow --version '<version>' --activate\n",
    "```\n",
    "\n",
    "Make sure it's activated:\n",
    "\n",
    "```bash\n",
    "flytectl get launchplan \\\n",
    "    -p flytesnacks -d development \\\n",
    "    scheduled_training_workflow --output yaml --latest \\\n",
    "    | grep ' state:'\n",
    "```\n",
    "\n",
    "Expected output:\n",
    "```\n",
    "state: ACTIVE\n",
    "```"
   ]
  },
  {
   "cell_type": "markdown",
   "metadata": {},
   "source": [
    "Using: `FlyteRemote`"
   ]
  },
  {
   "cell_type": "code",
   "execution_count": null,
   "metadata": {},
   "outputs": [],
   "source": [
    "from workflows.utils import get_remote\n",
    "\n",
    "remote = get_remote()\n",
    "lp_id = remote.fetch_launch_plan(name=\"scheduled_training_workflow\").id\n",
    "remote.client.update_launch_plan(lp_id, \"ACTIVE\")\n",
    "print(\"activated scheduled_training_workflow\")"
   ]
  },
  {
   "cell_type": "markdown",
   "metadata": {},
   "source": [
    "Get the execution for the most recent scheduled run:"
   ]
  },
  {
   "cell_type": "code",
   "execution_count": null,
   "metadata": {},
   "outputs": [],
   "source": [
    "recent_executions = [\n",
    "    execution\n",
    "    for execution in remote.recent_executions()\n",
    "    if execution.spec.launch_plan.name == \"scheduled_training_workflow\"\n",
    "]\n",
    "\n",
    "scheduled_execution = None\n",
    "model = None\n",
    "if recent_executions:\n",
    "    scheduled_execution = recent_executions[0]\n",
    "    \n",
    "print(scheduled_execution)"
   ]
  },
  {
   "cell_type": "markdown",
   "metadata": {},
   "source": [
    "Deactivate the schedule with the `flytectl` CLI:\n",
    "\n",
    "```bash\n",
    "flytectl update launchplan \\\n",
    "    -p flytesnacks -d development \\\n",
    "    scheduled_training_workflow --version '<version>' --archive\n",
    "```"
   ]
  },
  {
   "cell_type": "markdown",
   "metadata": {},
   "source": [
    "Or with `FlyteRemote`:"
   ]
  },
  {
   "cell_type": "code",
   "execution_count": null,
   "metadata": {},
   "outputs": [],
   "source": [
    "remote.client.update_launch_plan(lp_id, \"INACTIVE\")\n",
    "print(\"deactivated scheduled_training_workflow\")"
   ]
  },
  {
   "cell_type": "markdown",
   "metadata": {},
   "source": [
    "## Flyte Programming Model"
   ]
  },
  {
   "cell_type": "markdown",
   "metadata": {},
   "source": [
    "### Tasks as Containerized Functions"
   ]
  },
  {
   "attachments": {},
   "cell_type": "markdown",
   "metadata": {},
   "source": [
    "#### Reproducibility\n",
    "\n",
    "Next, we'll learn about multiple levels of reproducibility:\n",
    "\n",
    "- **Environment-level reproducibility**: As you can see in the\n",
    "  [Dockerfile](./Dockerfile), we're containerizing our Flyte application to\n",
    "  capture a snapshot of all the dependencies that your tasks and workflows rely on.\n",
    "- **Code-level reproducibility**: In [example_06_reproducibility.py](./workflows/example_06_reproducibility.py)\n",
    "  we take care of setting a random seed for our model. This is a common practice \n",
    "  but an important one to remember!\n",
    "- **Resource-level reproducibility**: Finally, as you've seen previously we can\n",
    "  declare the compute and memory requirements of our pipeline at the task-level.\n",
    "\n",
    "Combined with built-in versioning for all tasks, workflows, launchplans, and\n",
    "executions, Flyte gives you the ability to roll back/forward to previous versions\n",
    "of any of these entities. Flyte tasks/workflows are sort of like hermetically-sealed\n",
    "containers that are guaranteed to produce the same output (error or not) given\n",
    "the same input."
   ]
  },
  {
   "cell_type": "code",
   "execution_count": null,
   "metadata": {},
   "outputs": [],
   "source": [
    "!AWS_ACCESS_KEY_ID=minio AWS_SECRET_ACCESS_KEY=miniostorage aws --endpoint-url http://localhost:30002 s3 ls s3://my-s3-bucket"
   ]
  },
  {
   "cell_type": "code",
   "execution_count": null,
   "metadata": {},
   "outputs": [],
   "source": [
    "!docker run --network=\"host\" -it ghcr.io/flyteorg/flyte-conference-talks:scipy-2023-latest /bin/bash\n",
    "\n",
    "!FLYTE_SDK_LOGGING_LEVEL=20 AWS_ACCESS_KEY_ID=minio AWS_SECRET_ACCESS_KEY=miniostorage FLYTE_AWS_ENDPOINT=http://localhost:30002 \\\n",
    "pyflyte-fast-execute \\\n",
    "--additional-distribution s3://my-s3-bucket/flytesnacks/development/NS35CUJVLK7GDKD5YPU4VQMV44======/fast156af83e41196d797f4f45c29ca4e221.tar.gz \\\n",
    "--dest-dir /root \\\n",
    "-- \\\n",
    "pyflyte-execute \\\n",
    "--inputs s3://my-s3-bucket/metadata/propeller/flytesnacks-development-f3c370addb6ae3b57000/n0/data/inputs.pb \\\n",
    "--output-prefix s3://my-s3-bucket/metadata/propeller/flytesnacks-development-f3c370addb6ae3b57000/n0/data/0 \\\n",
    "--raw-output-data-prefix s3://my-s3-bucket/data/yb/f3c370addb6ae3b57000-n0-0 \\\n",
    "--checkpoint-path s3://my-s3-bucket/data/yb/f3c370addb6ae3b57000-n0-0/_flytecheckpoints \\\n",
    "--prev-checkpoint \"\" \\\n",
    "--resolver flytekit.core.python_auto_container.default_task_resolver \\\n",
    "-- \\\n",
    "task-module \\\n",
    "workflows.example_00_intro \\\n",
    "task-name \\\n",
    "get_data"
   ]
  },
  {
   "cell_type": "markdown",
   "metadata": {},
   "source": [
    "### Workflows and Promises"
   ]
  },
  {
   "attachments": {},
   "cell_type": "markdown",
   "metadata": {},
   "source": [
    "#### Exercise: Understanding Workflows\n",
    "\n",
    "Workflows are basically a domain-specific language (DSL) that builds an\n",
    "execution graph that uses tasks as the building blocks for more complex pipelines.\n",
    "\n",
    "Insert a breakpoint on line 80 of the `example_00_intro.py` script and rerun \n",
    "it. Take a look at all the variables in the `training_workflow` like `data` \n",
    "and `model`. What data type are they?"
   ]
  },
  {
   "attachments": {},
   "cell_type": "markdown",
   "metadata": {},
   "source": [
    "### Type System"
   ]
  },
  {
   "attachments": {},
   "cell_type": "markdown",
   "metadata": {},
   "source": [
    "The Flyte type system is responsible for a lot of Flyte's magic: Flyte uses\n",
    "the regular Python type hints to automatically serialize outputs of tasks\n",
    "and deserialize inputs of tasks from Flyte's native serialization format,\n",
    "including handling the off-loading of tabular data like `pandas.DataFrame`\n",
    "objects.\n",
    "\n",
    "A nice consequence of this is that Flyte can also analyze the execution graph\n",
    "that's built at compile-time and raise errors.\n",
    "\n",
    "Take a look at [example_04_type_system.py](./workflows/example_04_type_system.py).\n",
    "Try changing the output signature of `get_data` from `pd.DataFrame` to `dict`\n",
    "and to fast register it:\n",
    "\n",
    "```\n",
    "pyflyte register --project flytesnacks --domain development --image $IMAGE workflows\n",
    "```\n",
    "\n",
    "What error do you see?"
   ]
  },
  {
   "attachments": {},
   "cell_type": "markdown",
   "metadata": {},
   "source": [
    "#### Data Quality: DataFrame Types\n",
    "\n",
    "Pandera is a data validation tool for dataframe-like objects. In\n",
    "[example_05_pandera_types.py](./workflows/example_05_pandera_types.py), we define\n",
    "a pandera schema that validates the output of `get_data` as well as the DataFrame\n",
    "input of `split_data` at runtime.\n",
    "\n",
    "#### Exercise\n",
    "\n",
    "- Uncomment line 49 in the `example_05_pandera_types.py`\n",
    "- Fast register your workflows then run the cell below. What error do you see?\n",
    "- Bonus: comment the offending line and fast register the workflows again.\n",
    "  Re-run the cell again... what do you see?"
   ]
  },
  {
   "cell_type": "code",
   "execution_count": 11,
   "metadata": {},
   "outputs": [
    {
     "name": "stdout",
     "output_type": "stream",
     "text": [
      "http://localhost:30080/console/projects/flytesnacks/domains/development/executions/fef227229689147d9b5e\n"
     ]
    }
   ],
   "source": [
    "from workflows import example_05_pandera_types\n",
    "from workflows.utils import get_remote\n",
    "\n",
    "remote = get_remote()\n",
    "execution = remote.execute_local_workflow(\n",
    "    example_05_pandera_types.get_splits,\n",
    "    inputs={\"test_size\": 0.2}\n",
    ")\n",
    "print(remote.generate_console_url(execution))\n",
    "execution = remote.wait(execution)"
   ]
  },
  {
   "cell_type": "markdown",
   "metadata": {},
   "source": [
    "### How Data Flows in Flyte"
   ]
  },
  {
   "cell_type": "markdown",
   "metadata": {},
   "source": [
    "If tasks run in their own containers inside the Flyte cluster, how is data passed between them?"
   ]
  },
  {
   "cell_type": "markdown",
   "metadata": {},
   "source": [
    "### Lifecycle of a Workflow"
   ]
  },
  {
   "cell_type": "markdown",
   "metadata": {},
   "source": [
    "When you run a workflow locally, flytekit just runs the tasks in a Python runtime. However, when you run the workflow on a Flyte cluster, a lot of things are happening under the hood.\n",
    "\n",
    "`flytepropeller` is the core engine in the Flyte stack that orchestrates:\n",
    "- the compute infrastructure needed to run a task.\n",
    "- the execution of tasks in a particular sequence.\n",
    "- the management of data dependencies between tasks."
   ]
  },
  {
   "cell_type": "markdown",
   "metadata": {},
   "source": [
    "### Development Lifecycle Overview"
   ]
  },
  {
   "attachments": {},
   "cell_type": "markdown",
   "metadata": {},
   "source": [
    "#### `pyflyte register`\n",
    "\n",
    "Flyte support rapid iteration during development via \"fast registration\" via\n",
    "`pyflyte register`. This zips up all of the source code of your Flyte \n",
    "application and bypasses the need to re-build a docker image.\n",
    "\n",
    "```\n",
    "pyflyte register --project flytesnacks --domain development --image $IMAGE workflows\n",
    "```\n",
    "\n",
    "Now go back the Flyte console and take a look at one of the workflows. You'll\n",
    "see our fast-registered version under the **Recent Workflow Versions** panel."
   ]
  },
  {
   "cell_type": "markdown",
   "metadata": {},
   "source": [
    "## Productionizing Data Science Workloads"
   ]
  },
  {
   "attachments": {},
   "cell_type": "markdown",
   "metadata": {},
   "source": [
    "### Parallelism"
   ]
  },
  {
   "attachments": {},
   "cell_type": "markdown",
   "metadata": {},
   "source": [
    "#### Example 1: Dynamic Workflows\n",
    "\n",
    "Dynamic workflows allow you to create execution graphs on the fly. This allows\n",
    "you to specify for loops over inputs to implement a grid search model tuning\n",
    "workflow."
   ]
  },
  {
   "cell_type": "code",
   "execution_count": 9,
   "metadata": {},
   "outputs": [
    {
     "data": {
      "text/plain": [
       "'http://localhost:30080/console/projects/flytesnacks/domains/development/executions/f7483f3766a8044cc86f'"
      ]
     },
     "execution_count": 9,
     "metadata": {},
     "output_type": "execute_result"
    }
   ],
   "source": [
    "from workflows import example_01_dynamic\n",
    "from workflows.utils import get_remote\n",
    "\n",
    "remote = get_remote()\n",
    "execution = remote.execute_local_workflow(\n",
    "    example_01_dynamic.tuning_workflow,\n",
    "    inputs={\n",
    "        \"hyperparam_grid\": [\n",
    "            example_00_intro.Hyperparameters(C=0.1, max_iter=5000),\n",
    "            example_00_intro.Hyperparameters(C=0.01, max_iter=5000),\n",
    "            example_00_intro.Hyperparameters(C=0.001, max_iter=5000),\n",
    "        ],\n",
    "    }\n",
    ")\n",
    "remote.generate_console_url(execution)"
   ]
  },
  {
   "attachments": {},
   "cell_type": "markdown",
   "metadata": {},
   "source": [
    "#### Example 2: Map Tasks\n",
    "\n",
    "Map tasks enable larger fan-outs of embarrassingly parallel computations compared\n",
    "to dynamic workflows."
   ]
  },
  {
   "cell_type": "code",
   "execution_count": 7,
   "metadata": {},
   "outputs": [
    {
     "name": "stdout",
     "output_type": "stream",
     "text": [
      "http://localhost:30080/console/projects/flytesnacks/domains/development/executions/fca97404075754c2fa4c\n"
     ]
    }
   ],
   "source": [
    "from workflows import example_02_map_task\n",
    "from workflows.utils import get_remote\n",
    "\n",
    "remote = get_remote()\n",
    "execution = remote.execute_local_workflow(\n",
    "    example_02_map_task.tuning_workflow,\n",
    "    inputs={\n",
    "        \"hyperparam_grid\": [\n",
    "            example_00_intro.Hyperparameters(C=0.1, max_iter=5000),\n",
    "            example_00_intro.Hyperparameters(C=0.01, max_iter=5000),\n",
    "            example_00_intro.Hyperparameters(C=0.001, max_iter=5000),\n",
    "        ],\n",
    "    }\n",
    ")\n",
    "print(remote.generate_console_url(execution))\n",
    "execution = remote.wait(execution)"
   ]
  },
  {
   "cell_type": "markdown",
   "metadata": {},
   "source": [
    "### Horizontal Scaling"
   ]
  },
  {
   "attachments": {},
   "cell_type": "markdown",
   "metadata": {},
   "source": [
    "#### Example 3: Plugins\n",
    "\n",
    "Flyte has a plugin system that lets you integrate with a wide variety of\n",
    "data and machine learning tools that help you to scale, like BigQuery,\n",
    "Pyspark, and Ray."
   ]
  },
  {
   "cell_type": "code",
   "execution_count": 10,
   "metadata": {},
   "outputs": [
    {
     "name": "stdout",
     "output_type": "stream",
     "text": [
      "http://localhost:30080/console/projects/flytesnacks/domains/development/executions/fa4de104a7afd4d1d857\n"
     ]
    }
   ],
   "source": [
    "from workflows import example_03_plugins\n",
    "from workflows.utils import get_remote\n",
    "\n",
    "remote = get_remote()\n",
    "execution = remote.execute_local_workflow(\n",
    "    example_03_plugins.training_workflow,\n",
    "    inputs={\n",
    "        \"n_epochs\": 50,\n",
    "        \"hyperparameters\": example_03_plugins.Hyperparameters(\n",
    "            in_dim=4, hidden_dim=100, out_dim=3, learning_rate=0.03\n",
    "        ),\n",
    "    }\n",
    ")\n",
    "print(remote.generate_console_url(execution))\n",
    "execution = remote.wait(execution)"
   ]
  },
  {
   "cell_type": "markdown",
   "metadata": {},
   "source": [
    "### Production Notebooks"
   ]
  },
  {
   "cell_type": "markdown",
   "metadata": {},
   "source": [
    "### Container Tasks"
   ]
  },
  {
   "cell_type": "markdown",
   "metadata": {},
   "source": [
    "### ImageSpec"
   ]
  },
  {
   "attachments": {},
   "cell_type": "markdown",
   "metadata": {},
   "source": [
    "### Recovering from Failure"
   ]
  },
  {
   "attachments": {},
   "cell_type": "markdown",
   "metadata": {},
   "source": [
    "#### Caching\n",
    "\n",
    "In [example_07_caching.py](./workflows/example_07_caching.py), we revisit the model-tuning use case using `@dynamic` workflows,\n",
    "showing how caching can help reduce wasted compute."
   ]
  },
  {
   "cell_type": "code",
   "execution_count": 12,
   "metadata": {},
   "outputs": [
    {
     "name": "stdout",
     "output_type": "stream",
     "text": [
      "http://localhost:30080/console/projects/flytesnacks/domains/development/executions/fca9432093c79475888c\n"
     ]
    }
   ],
   "source": [
    "from workflows import example_07_caching\n",
    "from workflows.example_06_reproducibility import Hyperparameters\n",
    "from workflows.utils import get_remote\n",
    "\n",
    "remote = get_remote()\n",
    "execution = remote.execute_local_workflow(\n",
    "    example_07_caching.tuning_workflow,\n",
    "    inputs={\n",
    "        \"hyperparam_grid\": [\n",
    "            Hyperparameters(alpha=alpha)\n",
    "            for alpha in [10.0, 1.0, 0.1, 0.01, 0.001, 0.0001]\n",
    "        ],\n",
    "    }\n",
    ")\n",
    "print(remote.generate_console_url(execution))\n",
    "execution = remote.wait(execution)"
   ]
  },
  {
   "attachments": {},
   "cell_type": "markdown",
   "metadata": {},
   "source": [
    "#### Recovering Failed Executions\n",
    "\n",
    "In [example_08_recover_executions.py](./workflows/example_08_recover_executions.py), we see how Flyte\n",
    "provides a mechanism by which you can automatically recover from unexpected failures."
   ]
  },
  {
   "cell_type": "code",
   "execution_count": 13,
   "metadata": {},
   "outputs": [
    {
     "name": "stdout",
     "output_type": "stream",
     "text": [
      "http://localhost:30080/console/projects/flytesnacks/domains/development/executions/f30fc95e6cfa84af19bb\n"
     ]
    }
   ],
   "source": [
    "from workflows import example_08_recover_executions\n",
    "from workflows.utils import get_remote\n",
    "\n",
    "remote = get_remote()\n",
    "execution = remote.execute_local_workflow(\n",
    "    example_08_recover_executions.tuning_workflow,\n",
    "    inputs={\"alpha_grid\": [100.0, 10.0, 1.0, 0.1, 0.01, 0.001, 0.0001, 0.00001]}\n",
    ")\n",
    "print(remote.generate_console_url(execution))\n",
    "execution = remote.wait(execution)"
   ]
  },
  {
   "attachments": {},
   "cell_type": "markdown",
   "metadata": {},
   "source": [
    "#### Checkpointing\n",
    "\n",
    "In [example_09_checkpointing.py](./workflows/example_09_checkpointing.py), we\n",
    "learn about how you can do intra-task checkpoints natively in Flyte to pick\n",
    "up from where you left off in, e.g., a model training task."
   ]
  },
  {
   "cell_type": "code",
   "execution_count": 14,
   "metadata": {},
   "outputs": [
    {
     "name": "stdout",
     "output_type": "stream",
     "text": [
      "http://localhost:30080/console/projects/flytesnacks/domains/development/executions/f0f29542fe51740e9af4\n"
     ]
    }
   ],
   "source": [
    "from workflows import example_09_checkpointing\n",
    "from workflows.example_06_reproducibility import Hyperparameters\n",
    "from workflows.utils import get_remote\n",
    "\n",
    "remote = get_remote()\n",
    "execution = remote.execute_local_workflow(\n",
    "    example_09_checkpointing.training_workflow,\n",
    "    inputs={\n",
    "        \"n_epochs\": 30,\n",
    "        \"hyperparameters\": Hyperparameters(penalty=\"l1\", random_state=42),\n",
    "    }\n",
    ")\n",
    "print(remote.generate_console_url(execution))\n",
    "execution = remote.wait(execution)"
   ]
  },
  {
   "attachments": {},
   "cell_type": "markdown",
   "metadata": {},
   "source": [
    "### Auditing Workflows"
   ]
  },
  {
   "attachments": {},
   "cell_type": "markdown",
   "metadata": {},
   "source": [
    "#### Visualization with Flyte Decks\n",
    "\n",
    "In [example_10_flyte_decks.py](./workflows/example_10_flyte_decks.py) we\n",
    "create tasks that produce static html reports that help you understand the\n",
    "inputs/outputs of your tasks."
   ]
  },
  {
   "cell_type": "code",
   "execution_count": 1,
   "metadata": {},
   "outputs": [
    {
     "name": "stdout",
     "output_type": "stream",
     "text": [
      "http://localhost:30080/console/projects/flytesnacks/domains/development/executions/f03a65384d3814414836\n"
     ]
    }
   ],
   "source": [
    "from workflows import example_10_flyte_decks\n",
    "from workflows.utils import download_deck, get_remote\n",
    "\n",
    "remote = get_remote()\n",
    "execution = remote.execute_local_workflow(\n",
    "    example_10_flyte_decks.penguins_data_workflow,\n",
    "    inputs={},\n",
    ")\n",
    "print(remote.generate_console_url(execution))\n",
    "execution = remote.wait(execution)"
   ]
  },
  {
   "cell_type": "code",
   "execution_count": 9,
   "metadata": {},
   "outputs": [
    {
     "name": "stdout",
     "output_type": "stream",
     "text": [
      "Flyte decks for execution f9b47ecb975ad4829a95 downloaded to decks/example_10_decks.html\n"
     ]
    }
   ],
   "source": [
    "download_deck(remote, execution, \"n0\", \"decks/example_10_decks.html\")"
   ]
  },
  {
   "cell_type": "markdown",
   "metadata": {},
   "source": [
    "## Testing, CI/CD, Extending Flyte"
   ]
  },
  {
   "cell_type": "markdown",
   "metadata": {},
   "source": [
    "### Writing Unit Tests"
   ]
  },
  {
   "cell_type": "markdown",
   "metadata": {},
   "source": [
    "### Writing Integration Tests"
   ]
  },
  {
   "cell_type": "markdown",
   "metadata": {},
   "source": [
    "### Using Github Actions"
   ]
  },
  {
   "cell_type": "markdown",
   "metadata": {},
   "source": [
    "### Extending Flyte"
   ]
  },
  {
   "cell_type": "markdown",
   "metadata": {},
   "source": [
    "#### Decorators"
   ]
  },
  {
   "attachments": {},
   "cell_type": "markdown",
   "metadata": {},
   "source": [
    "#### Extending Flyte Decks"
   ]
  },
  {
   "cell_type": "markdown",
   "metadata": {},
   "source": [
    "Flyte decks can be easily extended to support any arbitrary visualization, as\n",
    "we can see in [example_11_extend_flyte_decks.py](./workflows/example_11_extend_flyte_decks.py)\n",
    "\n",
    "**Exercise**\n",
    "\n",
    "Come up with a visualization for one of inputs or outputs of any of the tasks\n",
    "in `example_11_extend_flyte_decks.py`, and create a custom Flyte deck for it."
   ]
  },
  {
   "cell_type": "code",
   "execution_count": 8,
   "metadata": {},
   "outputs": [
    {
     "name": "stdout",
     "output_type": "stream",
     "text": [
      "http://localhost:30080/console/projects/flytesnacks/domains/development/executions/f9b47ecb975ad4829a95\n"
     ]
    }
   ],
   "source": [
    "from workflows import example_11_extend_flyte_decks\n",
    "from workflows.example_06_reproducibility import Hyperparameters\n",
    "from workflows.utils import download_deck, get_remote\n",
    "from IPython.display import HTML, display\n",
    "\n",
    "remote = get_remote()\n",
    "execution = remote.execute_local_workflow(\n",
    "    example_11_extend_flyte_decks.training_workflow,\n",
    "    inputs={\n",
    "        \"hyperparameters\": Hyperparameters(\n",
    "            penalty=\"l1\", alpha=0.03, random_state=12345\n",
    "        )\n",
    "    },\n",
    ")\n",
    "print(remote.generate_console_url(execution))\n",
    "execution = remote.wait(execution)"
   ]
  },
  {
   "cell_type": "code",
   "execution_count": 10,
   "metadata": {},
   "outputs": [
    {
     "name": "stdout",
     "output_type": "stream",
     "text": [
      "Flyte decks for execution f9b47ecb975ad4829a95 downloaded to decks/example_11_decks_n2.html\n"
     ]
    }
   ],
   "source": [
    "download_deck(remote, execution, \"n2\", \"decks/example_11_decks_n2.html\")"
   ]
  },
  {
   "cell_type": "code",
   "execution_count": 11,
   "metadata": {},
   "outputs": [
    {
     "name": "stdout",
     "output_type": "stream",
     "text": [
      "Flyte decks for execution f9b47ecb975ad4829a95 downloaded to decks/example_11_decks_n3.html\n"
     ]
    }
   ],
   "source": [
    "download_deck(remote, execution, \"n3\", \"decks/example_11_decks_n3.html\")"
   ]
  },
  {
   "cell_type": "markdown",
   "metadata": {},
   "source": [
    "#### Type Plugins"
   ]
  },
  {
   "cell_type": "markdown",
   "metadata": {},
   "source": [
    "#### Task Plugins"
   ]
  }
 ],
 "metadata": {
  "kernelspec": {
   "display_name": "Python 3 (ipykernel)",
   "language": "python",
   "name": "python3"
  },
  "language_info": {
   "codemirror_mode": {
    "name": "ipython",
    "version": 3
   },
   "file_extension": ".py",
   "mimetype": "text/x-python",
   "name": "python",
   "nbconvert_exporter": "python",
   "pygments_lexer": "ipython3",
   "version": "3.9.16"
  },
  "vscode": {
   "interpreter": {
    "hash": "1c1aa76aeeda18f711a0c7c067c98817deca9b2faedcaffac8fadd364058945b"
   }
  }
 },
 "nbformat": 4,
 "nbformat_minor": 2
}
